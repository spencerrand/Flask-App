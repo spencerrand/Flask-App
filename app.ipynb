{
 "cells": [
  {
   "cell_type": "code",
   "execution_count": 68,
   "metadata": {
    "collapsed": true
   },
   "outputs": [],
   "source": [
    "# import libraries\n",
    "import numpy as np\n",
    "import pandas as pd\n",
    "\n",
    "from sqlalchemy.ext.automap import automap_base\n",
    "from sqlalchemy.orm import Session\n",
    "from sqlalchemy import create_engine, func\n",
    "\n",
    "from flask import (\n",
    "    Flask,\n",
    "    render_template,\n",
    "    jsonify,\n",
    "    request,\n",
    "    redirect)\n",
    "\n",
    "from flask_sqlalchemy import SQLAlchemy"
   ]
  },
  {
   "cell_type": "code",
   "execution_count": 69,
   "metadata": {
    "collapsed": true
   },
   "outputs": [],
   "source": [
    "# Set up Flask\n",
    "app = Flask(__name__)"
   ]
  },
  {
   "cell_type": "code",
   "execution_count": 95,
   "metadata": {
    "collapsed": true
   },
   "outputs": [],
   "source": [
    "#################################################\n",
    "engine = create_engine(\"sqlite:///db/belly_button_biodiversity.sqlite\")\n",
    "\n",
    "# reflect an existing database into a new model\n",
    "Base = automap_base()\n",
    "\n",
    "# reflect the tables\n",
    "Base.prepare(engine, reflect=True)\n",
    "\n",
    "# Save references to the tables\n",
    "otu = Base.classes.otu\n",
    "samples = Base.classes.samples\n",
    "metadata = Base.classes.samples_metadata\n",
    "\n",
    "# Create our session (link) from Python to the DB\n",
    "session = Session(engine)"
   ]
  },
  {
   "cell_type": "code",
   "execution_count": null,
   "metadata": {
    "collapsed": true
   },
   "outputs": [],
   "source": [
    "# create route that renders index.html template\n",
    "@app.route(\"/\")\n",
    "def home():\n",
    "    return render_template(\"index.html\")"
   ]
  },
  {
   "cell_type": "code",
   "execution_count": null,
   "metadata": {},
   "outputs": [],
   "source": [
    "@app.route('/names')\n",
    "def names():\n",
    "# Returns a list of sample names\n",
    "\n",
    "    # Create an empty list to store names\n",
    "    name_list = []\n",
    "    \n",
    "    # Query samples_metadata table for SAMPLEID\n",
    "    results = session.query(metadata.SAMPLEID).all()\n",
    "    \n",
    "    # Loop through the results\n",
    "    for name in results:\n",
    "        \n",
    "        # Append each name to the list\n",
    "        name_list.append(\"BB_\" + str(name[0]))\n",
    "        \n",
    "    # Return list of names\n",
    "    return (name_list)"
   ]
  },
  {
   "cell_type": "code",
   "execution_count": null,
   "metadata": {},
   "outputs": [],
   "source": [
    "@app.route('/otu')\n",
    "def otu_description():\n",
    "    # Return a list of OTU descriptions\n",
    "    \n",
    "    # Create an empty list to store descriptions\n",
    "    otu_description_list = []\n",
    "\n",
    "    # Query otu table for description\n",
    "    results = session.query(otu.lowest_taxonomic_unit_found).all()\n",
    "\n",
    "    # Loop through the results\n",
    "    for item in results:\n",
    "\n",
    "        # Append each description to the list\n",
    "        otu_description_list.append(item[0])\n",
    "        \n",
    "    # Return list of descriptions\n",
    "    return (otu_description_list)"
   ]
  },
  {
   "cell_type": "code",
   "execution_count": null,
   "metadata": {},
   "outputs": [],
   "source": [
    "@app.route('/metadata/<sample>')\n",
    "def metadata(sample):\n",
    "    # Returns a JSON dictionary containing age, bbtype, ethnicity, gender, location and sample id\n",
    "    # Sample must in the following format: `BB_940`\n",
    "    \n",
    "    # Get just the number from the sample\n",
    "    sample_num = sample[3:]\n",
    "\n",
    "    # Create an empty dictionary to store metadata\n",
    "    metadata_dict = {}\n",
    "\n",
    "    # Query samples_metadata table where the sample id equals the sample num\n",
    "    results = session.query(metadata.AGE, metadata.BBTYPE, metadata.ETHNICITY, metadata.GENDER, metadata.LOCATION, metadata.SAMPLEID)\\\n",
    "                .filter(metadata.SAMPLEID == sample_num).all()\n",
    "\n",
    "    # Add items to dictionary\n",
    "    metadata_dict[\"AGE\"] = results[0][0]\n",
    "    metadata_dict[\"BBTYPE\"] = results[0][1]\n",
    "    metadata_dict[\"ETHNICITY\"] = results[0][2]\n",
    "    metadata_dict[\"GENDER\"] = results[0][3]\n",
    "    metadata_dict[\"LOCATION\"] = results[0][4]\n",
    "    metadata_dict[\"SAMPLEID\"] = sample\n",
    "\n",
    "    # Return JSON dictionary of metadata items\n",
    "    return (jsonify(metadata_dict))\n"
   ]
  },
  {
   "cell_type": "code",
   "execution_count": null,
   "metadata": {},
   "outputs": [],
   "source": [
    "@app.route('/wfreq/<sample>')\n",
    "def weekly(sample):\n",
    "    # Returns the weekly washing frequency as a number\n",
    "    # Sample must in the following format: `BB_940`\n",
    "\n",
    "    # Get just the number from the sample\n",
    "    sample_num = sample[3:]\n",
    "\n",
    "    # Query samples_metadata table where the sample id equals the sample num\n",
    "    results = session.query(metadata.WFREQ).filter(metadata.SAMPLEID == sample_num).all()\n",
    "\n",
    "    # Assign the washing frequency based on the results\n",
    "    wfreq = results[0][0]\n",
    "    \n",
    "    # Return the washing frequency as an integer\n",
    "    return (wfreq)"
   ]
  },
  {
   "cell_type": "code",
   "execution_count": null,
   "metadata": {},
   "outputs": [],
   "source": [
    "@app.route('/samples/<sample>')\n",
    " def samples(sample):\n",
    "    # Returns the OTU IDs and sample values for a given sample\n",
    "\n",
    "    # Create a connection to the database\n",
    "    conn = engine.connect()\n",
    "\n",
    "    # Query samples table and put results in dataframe\n",
    "    data = pd.read_sql(f\"SELECT otu_id, {sample} FROM samples\", conn)\n",
    "\n",
    "    # Sort dataframe by sample value in descending order\n",
    "    sorted_data = data.sort_values([sample], ascending = False)\n",
    "\n",
    "    # Create a list of the sorted OTU IDs and a list of sample values\n",
    "    otu_list = sorted_data['otu_id'].values.tolist()\n",
    "    sample_list = sorted_data[sample].values.tolist()\n",
    "\n",
    "    # Convert lists in a dictionary\n",
    "    sample_dict = {'otu_ids' : otu_list, 'sample_values' : sample_list}\n",
    "\n",
    "    # Return a list of dictionaries containing sorted lists for OTU IDs and Sample Values\n",
    "    return ([sample_dict])"
   ]
  },
  {
   "cell_type": "code",
   "execution_count": null,
   "metadata": {
    "collapsed": true
   },
   "outputs": [],
   "source": [
    "if __name__ == \"__main__\":\n",
    "    app.run(debug=True)"
   ]
  }
 ],
 "metadata": {
  "kernelspec": {
   "display_name": "Python 3",
   "language": "python",
   "name": "python3"
  },
  "language_info": {
   "codemirror_mode": {
    "name": "ipython",
    "version": 3
   },
   "file_extension": ".py",
   "mimetype": "text/x-python",
   "name": "python",
   "nbconvert_exporter": "python",
   "pygments_lexer": "ipython3",
   "version": "3.6.3"
  }
 },
 "nbformat": 4,
 "nbformat_minor": 2
}
